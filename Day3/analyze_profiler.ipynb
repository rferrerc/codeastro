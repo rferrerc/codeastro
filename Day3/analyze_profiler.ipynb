{
 "cells": [
  {
   "cell_type": "markdown",
   "metadata": {},
   "source": [
    "# Code Profiling : Analyze the cProfile output\n",
    "\n",
    "We will use the `pstats` module to read and analyze the outupt of the profiler.\n"
   ]
  },
  {
   "cell_type": "code",
   "execution_count": 1,
   "metadata": {},
   "outputs": [],
   "source": [
    "import pstats\n",
    "mystats = pstats.Stats(\"profiler_output.txt\")"
   ]
  },
  {
   "cell_type": "markdown",
   "metadata": {},
   "source": [
    "## Display the top 15 functions that took the longest time to run\n",
    "\n",
    "Even in such a short script, python called millions of function! A lot of them are super quick and really not what we are after. Typically, we want to find the few functions that are bottlenecks in our code.\n",
    "\n",
    "The function below sorts the functions by which took the longest to run, and prints out only the stats of the top 15 functions that took longest to run. The columns below mean:\n",
    "  * ncalls: number of times this function was called\n",
    "  * tottime: the total execution time spent in this code NOT including calls to other functions\n",
    "  * percall: this first percall divides tottime by ncalls. The amount of time per call spent solely in this function.\n",
    "  * cumtime: the total execution time spent in this code INCLUDING calls to sub functions. `cumtime > tottime always.\n",
    "  * percall: second percall divides cumtime by ncalls\n",
    "  * filename: the name of the function being considered\n",
    "\n",
    "Both `tottime` and `cumtime` are useful. A function with a high `tottime` means we should focus on speeding up this function. A function with only a high `cumtime` means we should see what this function is calling to improve runtime.\n",
    "  * `_newton_solver()` is a function with a higher tottime. We should look at the lines in that function to check out how to speed it up.\n",
    "  * `_logl()` is a function with a low tottime but a very high `cumtime`. We should look at the functions it calls to figure out what takes up so much time.\n",
    "\n",
    "Generally, we want to put some filters on `print_stats`, becuase otherwise there will be so much printed out it is unmanageable. \n"
   ]
  },
  {
   "cell_type": "code",
   "execution_count": 15,
   "metadata": {
    "tags": []
   },
   "outputs": [
    {
     "output_type": "stream",
     "name": "stdout",
     "text": "Wed Jun 24 09:43:50 2020    profiler_output.txt\n\n         2984019 function calls (2943240 primitive calls) in 24.113 seconds\n\n   Ordered by: internal time\n   List reduced from 4773 to 25 due to restriction <25>\n\n   ncalls  tottime  percall  cumtime  percall filename:lineno(function)\n      732    6.243    0.009    6.833    0.009 /Users/bluez3303/Documents/GitHub/orbitize/orbitize/kepler.py:173(_newton_solver)\n      732    5.898    0.008   16.214    0.022 /Users/bluez3303/Documents/GitHub/orbitize/orbitize/kepler.py:17(calc_orbit)\n      366    1.707    0.005    1.732    0.005 /Users/bluez3303/Documents/GitHub/orbitize/orbitize/lnlike.py:8(chi2_lnlike)\n      732    1.021    0.001    8.776    0.012 /Users/bluez3303/Documents/GitHub/orbitize/orbitize/kepler.py:111(_calc_ecc_anom)\n23022/22015    0.856    0.000    1.233    0.000 {built-in method numpy.core._multiarray_umath.implement_array_function}\n      732    0.768    0.001    0.768    0.001 /Users/bluez3303/Documents/GitHub/orbitize/orbitize/system.py:377(radec2seppa)\n       93    0.722    0.008    0.724    0.008 {built-in method _imp.create_dynamic}\n      552    0.568    0.001    0.568    0.001 {method 'read' of '_io.FileIO' objects}\n    13190    0.510    0.000    0.510    0.000 {function Quantity.__array_ufunc__ at 0x1149fae60}\n    29538    0.441    0.000    0.441    0.000 {built-in method numpy.array}\n     2196    0.403    0.000    0.403    0.000 {method 'normal' of 'numpy.random.mtrand.RandomState' objects}\n      366    0.342    0.001    5.184    0.014 /Users/bluez3303/Documents/GitHub/orbitize/orbitize/sampler.py:178(prepare_samples)\n      732    0.290    0.000    0.290    0.000 /Users/bluez3303/Documents/GitHub/orbitize/orbitize/kepler.py:245(_mikkola_solver)\n     2196    0.231    0.000    0.231    0.000 {method 'uniform' of 'numpy.random.mtrand.RandomState' objects}\n      366    0.189    0.001   13.721    0.037 /Users/bluez3303/Documents/GitHub/orbitize/orbitize/system.py:184(compute_model)\n     3407    0.187    0.000    0.187    0.000 {built-in method posix.stat}\n      366    0.161    0.000   15.880    0.043 /Users/bluez3303/Documents/GitHub/orbitize/orbitize/sampler.py:274(reject)\n      551    0.153    0.000    0.720    0.001 <frozen importlib._bootstrap_external>:914(get_data)\n      549    0.140    0.000    0.140    0.000 {built-in method marshal.loads}\n13044/13014    0.126    0.000    0.318    0.000 /Users/bluez3303/miniconda3/envs/python3.7/lib/python3.7/site-packages/astropy/units/core.py:2126(_expand_and_gather)\n      366    0.090    0.000    0.090    0.000 {method 'repeat' of 'numpy.ndarray' objects}\n    13190    0.081    0.000    1.435    0.000 /Users/bluez3303/miniconda3/envs/python3.7/lib/python3.7/site-packages/astropy/units/quantity.py:434(__array_ufunc__)\n      366    0.077    0.000   15.667    0.043 /Users/bluez3303/Documents/GitHub/orbitize/orbitize/sampler.py:46(_logl)\n      366    0.076    0.000    0.114    0.000 /Users/bluez3303/Documents/GitHub/orbitize/orbitize/priors.py:247(draw_samples)\n        1    0.070    0.070   21.150   21.150 /Users/bluez3303/Documents/GitHub/orbitize/orbitize/sampler.py:364(run_sampler)\n\n\n"
    },
    {
     "output_type": "execute_result",
     "data": {
      "text/plain": "<pstats.Stats at 0x1127397f0>"
     },
     "metadata": {},
     "execution_count": 15
    }
   ],
   "source": [
    "mystats.sort_stats(\"time\").print_stats(25) # note that you need to display the top 25 to see _logl"
   ]
  },
  {
   "cell_type": "markdown",
   "metadata": {},
   "source": [
    "We can also apply multiple filters. For example let's look at the top 15 numpy functions that took the most time to run. Note that the order of the filtering matters. This command first selects every function with numpy in the name, followed by taking the top 15. Calling `print_states(15, 'numpy')` would pick the top 15 longest runtime functions, and downselecting which has numpy in the name from those. That would give us less than 15 numpy functions."
   ]
  },
  {
   "cell_type": "code",
   "execution_count": 10,
   "metadata": {
    "tags": []
   },
   "outputs": [
    {
     "output_type": "stream",
     "name": "stdout",
     "text": "Wed Jun 24 09:43:50 2020    profiler_output.txt\n\n         2984019 function calls (2943240 primitive calls) in 24.113 seconds\n\n   Ordered by: internal time\n   List reduced from 4773 to 492 due to restriction <'numpy'>\n   List reduced from 492 to 15 due to restriction <15>\n\n   ncalls  tottime  percall  cumtime  percall filename:lineno(function)\n23022/22015    0.856    0.000    1.233    0.000 {built-in method numpy.core._multiarray_umath.implement_array_function}\n    29538    0.441    0.000    0.441    0.000 {built-in method numpy.array}\n     2196    0.403    0.000    0.403    0.000 {method 'normal' of 'numpy.random.mtrand.RandomState' objects}\n     2196    0.231    0.000    0.231    0.000 {method 'uniform' of 'numpy.random.mtrand.RandomState' objects}\n      366    0.090    0.000    0.090    0.000 {method 'repeat' of 'numpy.ndarray' objects}\n44190/44188    0.044    0.000    0.055    0.000 {method 'view' of 'numpy.ndarray' objects}\n      366    0.040    0.000    0.094    0.000 /Users/bluez3303/miniconda3/envs/python3.7/lib/python3.7/site-packages/numpy/lib/nanfunctions.py:70(_replace_nan)\n     1199    0.033    0.000    0.033    0.000 {method 'reduce' of 'numpy.ufunc' objects}\n      366    0.032    0.000    0.032    0.000 {method 'random' of 'numpy.random.mtrand.RandomState' objects}\n     1199    0.024    0.000    0.024    0.000 {built-in method numpy.zeros}\n     2994    0.009    0.000    0.017    0.000 /Users/bluez3303/miniconda3/envs/python3.7/lib/python3.7/site-packages/numpy/core/numeric.py:1782(isscalar)\n     1830    0.008    0.000    0.012    0.000 /Users/bluez3303/miniconda3/envs/python3.7/lib/python3.7/site-packages/numpy/core/numeric.py:1211(rollaxis)\n      732    0.007    0.000    0.104    0.000 /Users/bluez3303/miniconda3/envs/python3.7/lib/python3.7/site-packages/numpy/lib/shape_base.py:1155(tile)\n     1169    0.005    0.000    0.040    0.000 /Users/bluez3303/miniconda3/envs/python3.7/lib/python3.7/site-packages/numpy/core/fromnumeric.py:73(_wrapreduction)\n      732    0.004    0.000    0.027    0.000 /Users/bluez3303/miniconda3/envs/python3.7/lib/python3.7/site-packages/numpy/core/numeric.py:290(full)\n\n\n"
    },
    {
     "output_type": "execute_result",
     "data": {
      "text/plain": "<pstats.Stats at 0x1127397f0>"
     },
     "metadata": {},
     "execution_count": 10
    }
   ],
   "source": [
    "mystats.sort_stats(\"time\").print_stats('numpy', 15)"
   ]
  },
  {
   "cell_type": "markdown",
   "metadata": {},
   "source": [
    "## Activity Part 1: Analyze the output\n",
    "\n",
    "Generate the output above on your own by running `python -m cProfile -o profiler_output.txt profile_orbitize.py` and answer the following questions by analyzing the output.\n",
    "\n",
    "1. Which function takes up the most runtime (not including calls to sub-functions)?\n",
    "\n",
    "2. Which function takes up the most runtime (including calls to sub-functions)?\n",
    "\n",
    "3. Which function is called the most? Which `orbitize` function is called the most?\n",
    "\n",
    "4. If we had the magical ability to speed up one function by a factor of 2, which function should we speed up? What is the improvement in end-to-end runtime of the script?\n",
    "\n"
   ]
  },
  {
   "cell_type": "code",
   "execution_count": null,
   "metadata": {},
   "outputs": [],
   "source": [
    "# 1: `_newton_solver` takes up the most runtime because it has the highest tottime\n",
    "# 2: [[ mystats.sort_stats(\"cumtime\").print_stats() ]] `run_sampler` takes up the most runtime including calls to sub-functions because \n",
    "#    it has the highest cumtime.\n",
    "# 3: [[ mystats.sort_stats(\"ncalls\").print_stats() ]] The function called the most is the built-in method `isinstance`. The orbitize function \n",
    "#    called most is `draw_samples`. \n",
    "# 4: We should choose to speed up `_newton_sampler`. On my laptop, `_newton_sampler` had a tottime of 6.243 s, and the entire script took \n",
    "#    24.113 s. Speeding up `_newton_sampler` by a factor of two would decrease its tottime to 3.122 s, and so decrease the end-to-end runtime \n",
    "#    of the script to 24.113 - 3.122 = 21.011 s."
   ]
  },
  {
   "cell_type": "markdown",
   "metadata": {},
   "source": [
    "## Activity Part 2: Investigate why `_logl` takes so long\n",
    "\n",
    "`_logl()` is a helper function in `orbitize!` to compute the log likelihood of the data given the model. The `_logl()` function itself has a short runtime but it is calling something that takes a long time that makes it have a long `cumtime`. We can use the `print_callees()` function to look at the stats of all the functions it calls.\n",
    "\n",
    "We can see that `compute_model` is the function with the highest cumtime, but its tottime is low, so we something it calls takes all the time. We must dig deeper! Keep digging down recursively to find what function called within `_logl()` that takes the longest."
   ]
  },
  {
   "cell_type": "code",
   "execution_count": 20,
   "metadata": {
    "tags": []
   },
   "outputs": [
    {
     "output_type": "stream",
     "name": "stdout",
     "text": "Ordered by: internal time\n   List reduced from 4773 to 1 due to restriction <'_logl'>\n\nFunction                                                                  called...\n                                                                              ncalls  tottime  cumtime\n/Users/bluez3303/Documents/GitHub/orbitize/orbitize/sampler.py:46(_logl)  ->     366    1.707    1.732  /Users/bluez3303/Documents/GitHub/orbitize/orbitize/lnlike.py:8(chi2_lnlike)\n                                                                                 366    0.189   13.721  /Users/bluez3303/Documents/GitHub/orbitize/orbitize/system.py:184(compute_model)\n                                                                                1464    0.002    0.004  /Users/bluez3303/miniconda3/envs/python3.7/lib/python3.7/site-packages/astropy/table/table.py:1600(__getitem__)\n                                                                                 366    0.001    0.130  <__array_function__ internals>:2(nansum)\n                                                                                 732    0.004    0.004  {built-in method numpy.array}\n\n\n   Ordered by: internal time\n   List reduced from 4773 to 1 due to restriction <'compute_model'>\n\nFunction                                                                          called...\n                                                                                      ncalls  tottime  cumtime\n/Users/bluez3303/Documents/GitHub/orbitize/orbitize/system.py:184(compute_model)  ->     366    4.786   12.912  /Users/bluez3303/Documents/GitHub/orbitize/orbitize/kepler.py:17(calc_orbit)\n                                                                                         366    0.591    0.591  /Users/bluez3303/Documents/GitHub/orbitize/orbitize/system.py:377(radec2seppa)\n                                                                                         366    0.001    0.001  /Users/bluez3303/miniconda3/envs/python3.7/lib/python3.7/site-packages/astropy/table/table.py:1600(__getitem__)\n                                                                                        2928    0.002    0.003  {built-in method builtins.len}\n                                                                                         366    0.001    0.001  {built-in method numpy.arange}\n                                                                                         732    0.023    0.023  {built-in method numpy.zeros}\n\n\n   Ordered by: internal time\n   List reduced from 4773 to 1 due to restriction <'calc_orbit'>\n\nFunction                                                                      called...\n                                                                                  ncalls  tottime  cumtime\n/Users/bluez3303/Documents/GitHub/orbitize/orbitize/kepler.py:17(calc_orbit)  ->     732    1.021    8.776  /Users/bluez3303/Documents/GitHub/orbitize/orbitize/kepler.py:111(_calc_ecc_anom)\n                                                                                    1464    0.013    0.210  /Users/bluez3303/miniconda3/envs/python3.7/lib/python3.7/site-packages/astropy/constants/constant.py:34(wrapper)\n                                                                                    1098    0.003    0.031  /Users/bluez3303/miniconda3/envs/python3.7/lib/python3.7/site-packages/astropy/table/column.py:388(__array_finalize__)\n                                                                                     732    0.002    0.003  /Users/bluez3303/miniconda3/envs/python3.7/lib/python3.7/site-packages/astropy/table/column.py:404(__array_wrap__)\n                                                                                     732    0.002    0.013  /Users/bluez3303/miniconda3/envs/python3.7/lib/python3.7/site-packages/astropy/units/core.py:645(__div__)\n                                                                                    3660    0.022    0.101  /Users/bluez3303/miniconda3/envs/python3.7/lib/python3.7/site-packages/astropy/units/core.py:701(__rmul__)\n                                                                                    2928    0.015    0.194  /Users/bluez3303/miniconda3/envs/python3.7/lib/python3.7/site-packages/astropy/units/quantity.py:434(__array_ufunc__)\n                                                                                    1464    0.003    0.199  /Users/bluez3303/miniconda3/envs/python3.7/lib/python3.7/site-packages/astropy/units/quantity.py:663(to)\n                                                                                    1464    0.001    0.002  /Users/bluez3303/miniconda3/envs/python3.7/lib/python3.7/site-packages/astropy/units/quantity.py:691(to_value)\n                                                                                    1464    0.005    0.099  /Users/bluez3303/miniconda3/envs/python3.7/lib/python3.7/site-packages/astropy/units/quantity.py:934(__mul__)\n                                                                                     732    0.001    0.044  /Users/bluez3303/miniconda3/envs/python3.7/lib/python3.7/site-packages/astropy/units/quantity.py:954(__rmul__)\n                                                                                    2196    0.009    0.255  /Users/bluez3303/miniconda3/envs/python3.7/lib/python3.7/site-packages/astropy/units/quantity.py:961(__truediv__)\n                                                                                     732    0.005    0.266  /Users/bluez3303/miniconda3/envs/python3.7/lib/python3.7/site-packages/astropy/units/quantity.py:1001(__pow__)\n                                                                                     732    0.002    0.004  /Users/bluez3303/miniconda3/envs/python3.7/lib/python3.7/site-packages/numpy/core/numeric.py:1782(isscalar)\n                                                                                    1464    0.002    0.006  <__array_function__ internals>:2(size)\n                                                                                     732    0.002    0.005  <__array_function__ internals>:2(squeeze)\n                                                                                     732    0.001    0.106  <__array_function__ internals>:2(tile)\n                                                                                     366    0.001    0.001  {built-in method numpy.array}\n\n\n   Ordered by: internal time\n   List reduced from 4773 to 1 due to restriction <'_calc_ecc_anom'>\n\nFunction                                                                           called...\n                                                                                       ncalls  tottime  cumtime\n/Users/bluez3303/Documents/GitHub/orbitize/orbitize/kepler.py:111(_calc_ecc_anom)  ->     732    6.243    6.833  /Users/bluez3303/Documents/GitHub/orbitize/orbitize/kepler.py:173(_newton_solver)\n                                                                                          732    0.019    0.315  /Users/bluez3303/Documents/GitHub/orbitize/orbitize/kepler.py:220(_mikkola_solver_wrapper)\n                                                                                          732    0.004    0.027  /Users/bluez3303/miniconda3/envs/python3.7/lib/python3.7/site-packages/numpy/core/numeric.py:290(full)\n                                                                                         2196    0.007    0.014  /Users/bluez3303/miniconda3/envs/python3.7/lib/python3.7/site-packages/numpy/core/numeric.py:1782(isscalar)\n                                                                                         2196    0.003    0.006  <__array_function__ internals>:2(shape)\n                                                                                          732    0.001    0.005  <__array_function__ internals>:2(squeeze)\n                                                                                         2196    0.004    0.555  <__array_function__ internals>:2(where)\n                                                                                         2196    0.001    0.001  {built-in method builtins.len}\n\n\n"
    },
    {
     "output_type": "execute_result",
     "data": {
      "text/plain": "<pstats.Stats at 0x1127397f0>"
     },
     "metadata": {},
     "execution_count": 20
    }
   ],
   "source": [
    "mystats.print_callees('_logl')\n",
    "mystats.print_callees('compute_model')\n",
    "mystats.print_callees('calc_orbit')\n",
    "mystats.print_callees('_calc_ecc_anom')\n",
    "\n",
    "# Aha! `_newton_solver` appears to be the culprit, in line with the previous activity's findings. Pesky orbits. "
   ]
  },
  {
   "cell_type": "markdown",
   "metadata": {},
   "source": [
    "## Activity Part 3: Which function calls `numpy.array` the most?\n",
    "\n",
    "`numpy.array` is a popular function because it gets called anytime a new numpy array gets created. We can use `print_callers()` to see which functions call it to look into potentially reducing the number of array creations to speed up the code. Which function in `orbitize` calls `numpy.array` the most times per function call? (it's harder than it looks)"
   ]
  },
  {
   "cell_type": "code",
   "execution_count": 33,
   "metadata": {
    "tags": []
   },
   "outputs": [
    {
     "output_type": "stream",
     "name": "stdout",
     "text": "Ordered by: call count\n   List reduced from 4773 to 1 due to restriction <'numpy.array'>\n\nFunction                       was called by...\n                                   ncalls  tottime  cumtime\n{built-in method numpy.array}  <-     366    0.001    0.001  /Users/bluez3303/Documents/GitHub/orbitize/orbitize/kepler.py:17(calc_orbit)\n                                     1464    0.210    0.210  /Users/bluez3303/Documents/GitHub/orbitize/orbitize/kepler.py:173(_newton_solver)\n                                      732    0.004    0.004  /Users/bluez3303/Documents/GitHub/orbitize/orbitize/sampler.py:46(_logl)\n                                        3    0.000    0.000  /Users/bluez3303/Documents/GitHub/orbitize/orbitize/sampler.py:104(__init__)\n                                     1098    0.006    0.006  /Users/bluez3303/Documents/GitHub/orbitize/orbitize/sampler.py:274(reject)\n                                        1    0.000    0.000  /Users/bluez3303/Documents/GitHub/orbitize/orbitize/sampler.py:364(run_sampler)\n                                       77    0.000    0.000  /Users/bluez3303/miniconda3/envs/python3.7/lib/python3.7/site-packages/astropy/constants/constant.py:85(__new__)\n                                        7    0.000    0.000  /Users/bluez3303/miniconda3/envs/python3.7/lib/python3.7/site-packages/astropy/io/ascii/core.py:843(convert_numpy)\n                                       32    0.000    0.000  /Users/bluez3303/miniconda3/envs/python3.7/lib/python3.7/site-packages/astropy/table/column.py:218(__new__)\n                                     5187    0.045    0.045  /Users/bluez3303/miniconda3/envs/python3.7/lib/python3.7/site-packages/astropy/units/quantity.py:290(__new__)\n                                    15402    0.009    0.009  /Users/bluez3303/miniconda3/envs/python3.7/lib/python3.7/site-packages/astropy/units/quantity.py:547(_new_view)\n                                        3    0.000    0.000  /Users/bluez3303/miniconda3/envs/python3.7/lib/python3.7/site-packages/matplotlib/bezier.py:147(BezierSegment)\n                                     1252    0.001    0.001  /Users/bluez3303/miniconda3/envs/python3.7/lib/python3.7/site-packages/matplotlib/colors.py:185(_to_rgba_no_colorcycle)\n                                        4    0.000    0.000  /Users/bluez3303/miniconda3/envs/python3.7/lib/python3.7/site-packages/matplotlib/colors.py:344(makeMappingArray)\n                                       10    0.000    0.000  /Users/bluez3303/miniconda3/envs/python3.7/lib/python3.7/site-packages/matplotlib/tri/triinterpolate.py:593(_ReducedHCT_Element)\n                                      919    0.003    0.003  /Users/bluez3303/miniconda3/envs/python3.7/lib/python3.7/site-packages/numpy/core/_asarray.py:16(asarray)\n                                      172    0.000    0.000  /Users/bluez3303/miniconda3/envs/python3.7/lib/python3.7/site-packages/numpy/core/_asarray.py:88(asanyarray)\n                                       36    0.000    0.000  /Users/bluez3303/miniconda3/envs/python3.7/lib/python3.7/site-packages/numpy/core/getlimits.py:41(<lambda>)\n                                       30    0.000    0.000  /Users/bluez3303/miniconda3/envs/python3.7/lib/python3.7/site-packages/numpy/core/getlimits.py:43(<lambda>)\n                                      732    0.002    0.002  /Users/bluez3303/miniconda3/envs/python3.7/lib/python3.7/site-packages/numpy/core/numeric.py:290(full)\n                                      732    0.109    0.109  /Users/bluez3303/miniconda3/envs/python3.7/lib/python3.7/site-packages/numpy/lib/function_base.py:745(copy)\n                                       98    0.000    0.000  /Users/bluez3303/miniconda3/envs/python3.7/lib/python3.7/site-packages/numpy/lib/function_base.py:4436(insert)\n                                      366    0.044    0.044  /Users/bluez3303/miniconda3/envs/python3.7/lib/python3.7/site-packages/numpy/lib/nanfunctions.py:70(_replace_nan)\n                                      732    0.004    0.004  /Users/bluez3303/miniconda3/envs/python3.7/lib/python3.7/site-packages/numpy/lib/shape_base.py:1155(tile)\n                                       43    0.000    0.000  /Users/bluez3303/miniconda3/envs/python3.7/lib/python3.7/site-packages/numpy/ma/core.py:2773(__new__)\n                                        4    0.000    0.000  /Users/bluez3303/miniconda3/envs/python3.7/lib/python3.7/site-packages/numpy/ma/core.py:6316(__new__)\n                                        4    0.000    0.000  /Users/bluez3303/miniconda3/envs/python3.7/lib/python3.7/site-packages/numpy/polynomial/chebyshev.py:89(<module>)\n                                        2    0.000    0.000  /Users/bluez3303/miniconda3/envs/python3.7/lib/python3.7/site-packages/numpy/polynomial/chebyshev.py:1966(Chebyshev)\n                                        4    0.000    0.000  /Users/bluez3303/miniconda3/envs/python3.7/lib/python3.7/site-packages/numpy/polynomial/hermite.py:60(<module>)\n                                        2    0.000    0.000  /Users/bluez3303/miniconda3/envs/python3.7/lib/python3.7/site-packages/numpy/polynomial/hermite.py:1627(Hermite)\n                                        4    0.000    0.000  /Users/bluez3303/miniconda3/envs/python3.7/lib/python3.7/site-packages/numpy/polynomial/hermite_e.py:60(<module>)\n                                        2    0.000    0.000  /Users/bluez3303/miniconda3/envs/python3.7/lib/python3.7/site-packages/numpy/polynomial/hermite_e.py:1621(HermiteE)\n                                        4    0.000    0.000  /Users/bluez3303/miniconda3/envs/python3.7/lib/python3.7/site-packages/numpy/polynomial/laguerre.py:60(<module>)\n                                        2    0.000    0.000  /Users/bluez3303/miniconda3/envs/python3.7/lib/python3.7/site-packages/numpy/polynomial/laguerre.py:1578(Laguerre)\n                                        4    0.000    0.000  /Users/bluez3303/miniconda3/envs/python3.7/lib/python3.7/site-packages/numpy/polynomial/legendre.py:83(<module>)\n                                        2    0.000    0.000  /Users/bluez3303/miniconda3/envs/python3.7/lib/python3.7/site-packages/numpy/polynomial/legendre.py:1613(Legendre)\n                                        4    0.000    0.000  /Users/bluez3303/miniconda3/envs/python3.7/lib/python3.7/site-packages/numpy/polynomial/polynomial.py:57(<module>)\n                                        2    0.000    0.000  /Users/bluez3303/miniconda3/envs/python3.7/lib/python3.7/site-packages/numpy/polynomial/polynomial.py:1442(Polynomial)\n\n\nWed Jun 24 09:43:50 2020    profiler_output.txt\n\n         2984019 function calls (2943240 primitive calls) in 24.113 seconds\n\n   Ordered by: call count\n   List reduced from 4773 to 51 due to restriction <'orbitize'>\n\n   ncalls  tottime  percall  cumtime  percall filename:lineno(function)\n     1464    0.002    0.000    0.151    0.000 /Users/bluez3303/Documents/GitHub/orbitize/orbitize/priors.py:197(draw_samples)\n      732    0.768    0.001    0.768    0.001 /Users/bluez3303/Documents/GitHub/orbitize/orbitize/system.py:377(radec2seppa)\n      732    0.012    0.000    0.220    0.000 /Users/bluez3303/Documents/GitHub/orbitize/orbitize/priors.py:57(draw_samples)\n      732    5.898    0.008   16.214    0.022 /Users/bluez3303/Documents/GitHub/orbitize/orbitize/kepler.py:17(calc_orbit)\n      732    1.021    0.001    8.776    0.012 /Users/bluez3303/Documents/GitHub/orbitize/orbitize/kepler.py:111(_calc_ecc_anom)\n      732    6.243    0.009    6.833    0.009 /Users/bluez3303/Documents/GitHub/orbitize/orbitize/kepler.py:173(_newton_solver)\n      732    0.019    0.000    0.315    0.000 /Users/bluez3303/Documents/GitHub/orbitize/orbitize/kepler.py:220(_mikkola_solver_wrapper)\n      732    0.290    0.000    0.290    0.000 /Users/bluez3303/Documents/GitHub/orbitize/orbitize/kepler.py:245(_mikkola_solver)\n      366    0.189    0.001   13.721    0.037 /Users/bluez3303/Documents/GitHub/orbitize/orbitize/system.py:184(compute_model)\n      366    0.029    0.000    0.073    0.000 /Users/bluez3303/Documents/GitHub/orbitize/orbitize/priors.py:138(draw_samples)\n      366    0.076    0.000    0.114    0.000 /Users/bluez3303/Documents/GitHub/orbitize/orbitize/priors.py:247(draw_samples)\n      366    0.077    0.000   15.667    0.043 /Users/bluez3303/Documents/GitHub/orbitize/orbitize/sampler.py:46(_logl)\n      366    0.342    0.001    5.184    0.014 /Users/bluez3303/Documents/GitHub/orbitize/orbitize/sampler.py:178(prepare_samples)\n      366    0.003    0.000    0.003    0.000 /Users/bluez3303/Documents/GitHub/orbitize/orbitize/sampler.py:301(<listcomp>)\n      366    0.001    0.000    0.001    0.000 /Users/bluez3303/Documents/GitHub/orbitize/orbitize/sampler.py:302(<listcomp>)\n      366    0.161    0.000   15.880    0.043 /Users/bluez3303/Documents/GitHub/orbitize/orbitize/sampler.py:274(reject)\n      366    1.707    0.005    1.732    0.005 /Users/bluez3303/Documents/GitHub/orbitize/orbitize/lnlike.py:8(chi2_lnlike)\n        4    0.000    0.000    0.000    0.000 /Users/bluez3303/Documents/GitHub/orbitize/orbitize/priors.py:190(__init__)\n        2    0.000    0.000    0.000    0.000 /Users/bluez3303/Documents/GitHub/orbitize/orbitize/priors.py:49(__init__)\n        1    0.000    0.000   24.115   24.115 profile_orbitize.py:17(<module>)\n        1    0.000    0.000    0.000    0.000 /Users/bluez3303/Documents/GitHub/orbitize/orbitize/__init__.py:1(<module>)\n        1    0.000    0.000    0.024    0.024 /Users/bluez3303/Documents/GitHub/orbitize/orbitize/driver.py:36(__init__)\n        1    0.000    0.000    0.000    0.000 /Users/bluez3303/Documents/GitHub/orbitize/orbitize/driver.py:11(Driver)\n        1    0.000    0.000    2.939    2.939 /Users/bluez3303/Documents/GitHub/orbitize/orbitize/driver.py:1(<module>)\n        1    0.000    0.000    0.021    0.021 /Users/bluez3303/Documents/GitHub/orbitize/orbitize/read_input.py:12(read_file)\n        1    0.000    0.000    1.537    1.537 /Users/bluez3303/Documents/GitHub/orbitize/orbitize/read_input.py:3(<module>)\n        1    0.000    0.000    0.001    0.001 /Users/bluez3303/Documents/GitHub/orbitize/orbitize/system.py:53(__init__)\n        1    0.000    0.000    0.000    0.000 /Users/bluez3303/Documents/GitHub/orbitize/orbitize/system.py:5(System)\n        1    0.000    0.000    0.004    0.004 /Users/bluez3303/Documents/GitHub/orbitize/orbitize/system.py:1(<module>)\n        1    0.000    0.000    0.000    0.000 /Users/bluez3303/Documents/GitHub/orbitize/orbitize/priors.py:16(Prior)\n        1    0.000    0.000    0.000    0.000 /Users/bluez3303/Documents/GitHub/orbitize/orbitize/priors.py:33(GaussianPrior)\n        1    0.000    0.000    0.000    0.000 /Users/bluez3303/Documents/GitHub/orbitize/orbitize/priors.py:128(__init__)\n        1    0.000    0.000    0.000    0.000 /Users/bluez3303/Documents/GitHub/orbitize/orbitize/priors.py:113(LogUniformPrior)\n        1    0.000    0.000    0.000    0.000 /Users/bluez3303/Documents/GitHub/orbitize/orbitize/priors.py:180(UniformPrior)\n        1    0.000    0.000    0.000    0.000 /Users/bluez3303/Documents/GitHub/orbitize/orbitize/priors.py:241(__init__)\n        1    0.000    0.000    0.000    0.000 /Users/bluez3303/Documents/GitHub/orbitize/orbitize/priors.py:234(SinPrior)\n        1    0.000    0.000    0.000    0.000 /Users/bluez3303/Documents/GitHub/orbitize/orbitize/priors.py:289(LinearPrior)\n        1    0.000    0.000    0.000    0.000 /Users/bluez3303/Documents/GitHub/orbitize/orbitize/priors.py:1(<module>)\n        1    0.000    0.000    0.002    0.002 /Users/bluez3303/Documents/GitHub/orbitize/orbitize/kepler.py:3(<module>)\n        1    0.000    0.000    0.000    0.000 /Users/bluez3303/Documents/GitHub/orbitize/orbitize/sampler.py:31(__init__)\n        1    0.000    0.000    0.000    0.000 /Users/bluez3303/Documents/GitHub/orbitize/orbitize/sampler.py:23(Sampler)\n        1    0.000    0.000    0.002    0.002 /Users/bluez3303/Documents/GitHub/orbitize/orbitize/sampler.py:104(__init__)\n        1    0.070    0.070   21.150   21.150 /Users/bluez3303/Documents/GitHub/orbitize/orbitize/sampler.py:364(run_sampler)\n        1    0.000    0.000    0.000    0.000 /Users/bluez3303/Documents/GitHub/orbitize/orbitize/sampler.py:88(OFTI)\n        1    0.000    0.000    0.000    0.000 /Users/bluez3303/Documents/GitHub/orbitize/orbitize/sampler.py:471(MCMC)\n        1    0.000    0.000    1.395    1.395 /Users/bluez3303/Documents/GitHub/orbitize/orbitize/sampler.py:1(<module>)\n        1    0.000    0.000    0.000    0.000 /Users/bluez3303/Documents/GitHub/orbitize/orbitize/lnlike.py:1(<module>)\n        1    0.000    0.000    0.000    0.000 /Users/bluez3303/Documents/GitHub/orbitize/orbitize/results.py:60(__init__)\n        1    0.000    0.000    0.000    0.000 /Users/bluez3303/Documents/GitHub/orbitize/orbitize/results.py:70(add_samples)\n        1    0.000    0.000    0.000    0.000 /Users/bluez3303/Documents/GitHub/orbitize/orbitize/results.py:30(Results)\n        1    0.000    0.000    1.343    1.343 /Users/bluez3303/Documents/GitHub/orbitize/orbitize/results.py:1(<module>)\n\n\n"
    },
    {
     "output_type": "execute_result",
     "data": {
      "text/plain": "<pstats.Stats at 0x1127397f0>"
     },
     "metadata": {},
     "execution_count": 33
    }
   ],
   "source": [
    "mystats.print_callers('numpy.array')\n",
    "\n",
    "# The orbitize functions that call `numpy.array` are `calc_orbit`, `_newton_solver`, `_logl`, `sampler.__init__`, `reject`, and `run_sampler`.\n",
    "#   To find which one calls `numpy.array` the most times *per function call*, divide ncalls in the output below by the number of times the function\n",
    "#   itself is called. \n",
    "\n",
    "mystats.sort_stats(\"ncalls\").print_stats('orbitize')\n",
    "\n",
    "# `calc_orbit` : (total number of times it calls `numpy.array`: 366) / (total number of times it is called : 732) = 0.5\n",
    "# `_newton_solver` : 1464 / 732 = 2\n",
    "# `_logl` : 732 / 366 = 0.5\n",
    "# `sampler.__init__` : 3 / 1 = 3\n",
    "# `reject` : 1098 / 366 = 3\n",
    "# `run_sampler` : 1 / 1 = 1\n",
    "\n",
    "# Therefore, `sampler.__init__` calls `numpy.array` the most *per time it is called*. In other words, the code for `sampler.__init__`\n",
    "#   contains the most lines that call `numpy.array`."
   ]
  },
  {
   "cell_type": "markdown",
   "metadata": {},
   "source": [
    "# Code Profiling Strategy\n",
    "\n",
    "Generally, it is important to focus your effort on speeding up the 1 or 2 slowest functions. If you speed up something that takes 50% of the runtime by a factor of 100, you speed up the code by a factor of 2. Even if a piece of code takes 10% of the runtime, a factor of 2 improvement (which by itself is often hard to get) only gives you a 5% improvement in the end. **Focus your effort on optimizing the runtime of the one or two functions that take the most amount of time.**\n",
    "\n",
    "For all else, it is generally more important to optimize code readibility over runtime. Code that is more readible is less prone to bugs and eaiser to maintain. If a piece of code takes only 0.0001% of the runtime, any amount of speed up is not worth making the code hard to read (from a person-hour perspective). Many times, it is difficult to gain more than a factor of 2 speed up in runtime. Definitely think about the potential gain in speed-up versus how long it takes to write and maintian the code.\n",
    "\n",
    "## Some Ways to Speed up Your Code\n",
    "\n",
    "If you identified the critical chunk of code to speed up, the general strategy is to remove unncessary computations as much as possible. There's unfortunately not one single method to speed up your code. But here are a few ideas:\n",
    "\n",
    "1. Eliminate computations that are not being used (e.g., computing variables you do not use; processing parts of images that will be discarded). \n",
    "2. Use `numpy` functions whenever possible for matrix operations\n",
    "3. Avoid using python `for` and `while` loops as they are slow\n",
    "4. If MKL/BLAS is being run inside of already-parallelized code, disable MKL/BLAS.\n",
    "5. Reduce the number of iterations or increase the tolerance of routines that are unncessarily precise (e.g., optimizers can run for less iterations; sin and cos can be approximated by taylor expansions). \n",
    "6. Avoid copying variables when they do not need to be copied (e.g., if the input is already a numpy.array, you don't need to wrap it with `np.array()` in ensure it's a numpy array). \n",
    "7. Turn some of your python code into C-code and call it with Python\n",
    "8. Other ideas?\n",
    "\n"
   ]
  },
  {
   "cell_type": "markdown",
   "metadata": {},
   "source": [
    "## Code Performance Extrapolation\n",
    "\n",
    "If your code takes 24 hours to run to completion, or needs to be run on a cluster, it is likely still easier to develop and benchmark it on your laptop. We can use extrapolation to estimate performance. \n",
    "\n",
    "### Runtime\n",
    "\n",
    "Generally algorithm runtimes scale as N^a where a is some positive number greater than 1, and N is the size of your data. (In CS terms, this is often disccused in \"Big O\" notation as  $O(N^a)$ runtime). If your data is too big or takes too long to benchmark on a single machine, try running your code on much smaller data. If you do this for ~3-5 different test data with different N, you can estimate what is the scaling of your code (i.e., what is \"a\"). Once you know the scaling you can use that scaling relation to extrapolate how long it will take on larger datasets. If you can also use more cores, you can divide the final runtime by the number of cores you can use. \n",
    "\n",
    "For example, my code takes 10 seconds on 10x10 data, 10,000 seconds on 100x100 data, and 40,000 seconds on 200x200 data (all on a single core). My code scales as N^2 where N is the size of one dimension of the data. If I want to run it on 10,000x10,000 data with 100 cores, my code should take (10,000^2)/100 = 1,000,000 seconds to run.\n",
    "\n",
    "### Memory\n",
    "\n",
    "If you are worried that your program will run out of memory, try calculating how much memory your program uses. On modern 64-bit machines, a single number (an integer, float) takes up 8 bytes. If you have an array of 1000x1000 floats, then it will take up 8e6 bytes or 8 MBs. If you have 3-D numerical data with dimensions 1000x1000x1000, then it will take up 8e9 bytes or 8 GBs."
   ]
  },
  {
   "cell_type": "code",
   "execution_count": null,
   "metadata": {},
   "outputs": [],
   "source": []
  }
 ],
 "metadata": {
  "language_info": {
   "codemirror_mode": {
    "name": "ipython",
    "version": 3
   },
   "file_extension": ".py",
   "mimetype": "text/x-python",
   "name": "python",
   "nbconvert_exporter": "python",
   "pygments_lexer": "ipython3",
   "version": "3.7.6-final"
  },
  "orig_nbformat": 2,
  "kernelspec": {
   "name": "python3",
   "display_name": "Python 3"
  }
 },
 "nbformat": 4,
 "nbformat_minor": 2
}